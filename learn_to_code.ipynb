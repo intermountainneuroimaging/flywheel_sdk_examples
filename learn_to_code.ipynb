{
 "cells": [
  {
   "cell_type": "markdown",
   "metadata": {},
   "source": [
    "# Introduction to Python Coding"
   ]
  },
  {
   "cell_type": "markdown",
   "metadata": {},
   "source": [
    "In this notebook, we will explore some of the basic functionality of Python and introduce Flywheel's Python SDK to interact with our Neuroimaging data in Flywheel!\n",
    "\n",
    "If you haven't watched our video on python introdcution, please start there! Once complete you are ready to start coding.\n",
    "\n",
    "-------------------\n",
    "Let's get started!"
   ]
  },
  {
   "cell_type": "markdown",
   "metadata": {},
   "source": [
    "## Exercise 1: Assign a Value to Variable"
   ]
  },
  {
   "cell_type": "code",
   "execution_count": 1,
   "metadata": {},
   "outputs": [],
   "source": [
    "# lets define a string\n",
    "my_string = \"Hello World\"\n",
    "\n",
    "# lets define a number\n",
    "my_number = 10\n",
    "\n",
    "# lets define a boolean\n",
    "my_boolean = True\n"
   ]
  },
  {
   "cell_type": "markdown",
   "metadata": {},
   "source": [
    "Notice the above cell we assigned values to variable we can use later in our program. Lets check some attributes about the variables next.\n",
    "\n",
    "`print()` is a useful built in python function to display the value of a variable. We can use this to check the value of variables during the execution of our code."
   ]
  },
  {
   "cell_type": "code",
   "execution_count": 2,
   "metadata": {},
   "outputs": [
    {
     "name": "stdout",
     "output_type": "stream",
     "text": [
      "Hello World\n"
     ]
    }
   ],
   "source": [
    "# print the contents of my variable\n",
    "print(my_string)"
   ]
  },
  {
   "cell_type": "markdown",
   "metadata": {},
   "source": [
    "In our first example above we assigned values to our variables using constant values (i.e. we enter values directly). We can also assign variables which are a derived value from another variable. For example, `type()` function returns the type of a given variable. Here we assign that function's **output** to a new variable."
   ]
  },
  {
   "cell_type": "code",
   "execution_count": 3,
   "metadata": {},
   "outputs": [
    {
     "name": "stdout",
     "output_type": "stream",
     "text": [
      "<class 'str'>\n"
     ]
    }
   ],
   "source": [
    "# print the type of my variable\n",
    "my_string_type = type(my_string)\n",
    "\n",
    "print(my_string_type)"
   ]
  },
  {
   "cell_type": "markdown",
   "metadata": {},
   "source": [
    "Try it Out!\n",
    "--------------\n",
    "In the next cell print the contents of `my_number` variable. "
   ]
  },
  {
   "cell_type": "code",
   "execution_count": null,
   "metadata": {},
   "outputs": [],
   "source": []
  },
  {
   "cell_type": "markdown",
   "metadata": {},
   "source": [
    "## Exercise 2: Operations\n",
    "Lets use the variables we defined in the first section to perform some operations. Recall operations are a generic term to describe when we \"act upon\" values in our code"
   ]
  },
  {
   "cell_type": "code",
   "execution_count": 4,
   "metadata": {},
   "outputs": [
    {
     "name": "stdout",
     "output_type": "stream",
     "text": [
      "12\n"
     ]
    }
   ],
   "source": [
    "# lets start with a mathematical operator\n",
    "my_new_number = my_number + 2\n",
    "\n",
    "# lets print the new variable's value\n",
    "print(my_new_number)"
   ]
  },
  {
   "cell_type": "code",
   "execution_count": 5,
   "metadata": {},
   "outputs": [
    {
     "data": {
      "text/plain": [
       "False"
      ]
     },
     "execution_count": 5,
     "metadata": {},
     "output_type": "execute_result"
    }
   ],
   "source": [
    "# how about a boolean operator\n",
    "not my_boolean"
   ]
  },
  {
   "cell_type": "markdown",
   "metadata": {},
   "source": [
    "Notice in the above example that our variable `my_boolean` was assigned a `True` value. Not is a boolean operator to give the opposite output, meaning `not True` is the same as `False`"
   ]
  },
  {
   "cell_type": "code",
   "execution_count": 6,
   "metadata": {},
   "outputs": [
    {
     "data": {
      "text/plain": [
       "True"
      ]
     },
     "execution_count": 6,
     "metadata": {},
     "output_type": "execute_result"
    }
   ],
   "source": [
    "# another way to use boolean operators is using comparative operators\n",
    "my_new_number > 10"
   ]
  },
  {
   "cell_type": "markdown",
   "metadata": {},
   "source": [
    "Notice in this example we are using the greater than operator to test if the value assigned in `my_new_number` is greater than 10. If the `my_new_number > 10` the statement will return `True`"
   ]
  },
  {
   "cell_type": "markdown",
   "metadata": {},
   "source": [
    "Try it Out!\n",
    "--------------\n",
    "In the next cell compute the remainder of `10 / 3`. Hint: the remainder operation looks like this `x % y`, more info in our lecture slides."
   ]
  },
  {
   "cell_type": "code",
   "execution_count": null,
   "metadata": {},
   "outputs": [],
   "source": []
  },
  {
   "cell_type": "markdown",
   "metadata": {},
   "source": [
    "## Exercise 3: If statements and For Loops\n",
    "If statements are really useful for decision making inside the program. In many cases we may want to perform an action only is a statment is `True`. \n",
    "\n",
    "For loops are also incedibly useful to perform the same action many times on a group of inputs. Here are a couple examples."
   ]
  },
  {
   "cell_type": "code",
   "execution_count": 7,
   "metadata": {},
   "outputs": [
    {
     "name": "stdout",
     "output_type": "stream",
     "text": [
      "Good Evening!\n"
     ]
    }
   ],
   "source": [
    "import datetime\n",
    "\n",
    "# Get the current hour\n",
    "current_hour = datetime.datetime.now().hour\n",
    "\n",
    "# If statement to determine AM or PM\n",
    "if current_hour < 12:\n",
    "    print(\"Good Morning!\")\n",
    "else:\n",
    "    print(\"Good Evening!\")"
   ]
  },
  {
   "cell_type": "markdown",
   "metadata": {},
   "source": [
    "In this example, we are first going to load a python module `import datetime` (discussed in more detail below). Using this python module, we will first assign the current time to a variable `current_hour`. We will then test is the `current_hour < 12`. Depending if the condition is True, we will either return a statment that its the morning or afternoon. "
   ]
  },
  {
   "cell_type": "code",
   "execution_count": 8,
   "metadata": {},
   "outputs": [
    {
     "name": "stdout",
     "output_type": "stream",
     "text": [
      "iteration: 0\n",
      "iteration: 1\n",
      "iteration: 2\n",
      "iteration: 3\n",
      "iteration: 4\n"
     ]
    }
   ],
   "source": [
    "my_array = range(0,5)\n",
    "for i in my_array:\n",
    "    print(f\"iteration: {i}\")"
   ]
  },
  {
   "cell_type": "markdown",
   "metadata": {},
   "source": [
    "In this example, we first define a python list contain using `range(start, stop)` where stop is excluive (does not include the the value itself). We then loop through all the values in the list and print the value to the terminal. We use a handy 'f-string' to format the print statement."
   ]
  },
  {
   "cell_type": "markdown",
   "metadata": {},
   "source": [
    "Try it Out!\n",
    "--------------\n",
    "In the next cell, loop through the `range(0,5)`. Print each value in the array only if the value is an even number. \n",
    "\n",
    "**Hint:** you will need to add an if statement inside a for loop. The if statement condition should be a remainder calculations `i % 2 == 0`\n",
    "\n",
    "**Remember:** Indentation matters!"
   ]
  },
  {
   "cell_type": "code",
   "execution_count": null,
   "metadata": {},
   "outputs": [],
   "source": []
  },
  {
   "cell_type": "markdown",
   "metadata": {},
   "source": [
    "## Exercise 4: Functions and Modules"
   ]
  },
  {
   "cell_type": "markdown",
   "metadata": {},
   "source": [
    "We have already seen in these exercises a few examples of python functions and modules. Python functions are simply a special box that holds a set of instructions. We often write or use functions for actions that we use frequently in our code to make it faster and easier to execute.\n",
    "\n",
    "Modules are libraries of functions that are all pre-packaged together for a user. For example, the `datetime` module allows the user to generate, retreive or compute using date and time metrics. "
   ]
  },
  {
   "cell_type": "code",
   "execution_count": 9,
   "metadata": {},
   "outputs": [],
   "source": [
    "# define a custom function\n",
    "def print_name(name):\n",
    "    print(f\"My name is: {name}\")"
   ]
  },
  {
   "cell_type": "markdown",
   "metadata": {},
   "source": [
    "After defining a custom function using the `def function_name():` syntax, you can use it in your code as many times as you like..."
   ]
  },
  {
   "cell_type": "code",
   "execution_count": 10,
   "metadata": {},
   "outputs": [
    {
     "name": "stdout",
     "output_type": "stream",
     "text": [
      "My name is: Alice\n",
      "My name is: Bob\n",
      "My name is: Fred\n"
     ]
    }
   ],
   "source": [
    "print_name(\"Alice\")\n",
    "print_name(\"Bob\")\n",
    "print_name(\"Fred\")"
   ]
  },
  {
   "cell_type": "markdown",
   "metadata": {},
   "source": [
    "There are many built in or downloadable module in Python. We always want to define our modules at the top of our script before using them in our code. Here is an example of a built in operating system module `os`. This module is useful to print and modify filepaths."
   ]
  },
  {
   "cell_type": "code",
   "execution_count": 11,
   "metadata": {},
   "outputs": [
    {
     "data": {
      "text/plain": [
       "'/home/mri/Documents/flywheel-apps/flywheel_sdk_examples'"
      ]
     },
     "execution_count": 11,
     "metadata": {},
     "output_type": "execute_result"
    }
   ],
   "source": [
    "import os\n",
    "os.getcwd()"
   ]
  },
  {
   "cell_type": "markdown",
   "metadata": {},
   "source": [
    "## Put it all Together with Flywheel!\n",
    "pull the total number of sessions by year in flywheel. Plot it as a bar plot..."
   ]
  },
  {
   "cell_type": "code",
   "execution_count": 12,
   "metadata": {},
   "outputs": [],
   "source": [
    "import datetime\n",
    "import flywheel\n",
    "\n",
    "# we are going to use the flywheel module to log-in to flywheel\n",
    "fw = flywheel.Client()"
   ]
  },
  {
   "cell_type": "code",
   "execution_count": 13,
   "metadata": {},
   "outputs": [
    {
     "data": {
      "text/plain": [
       "116"
      ]
     },
     "execution_count": 13,
     "metadata": {},
     "output_type": "execute_result"
    }
   ],
   "source": [
    "# lets find all the flywheel sessions that were created in 2025 \n",
    "sessions = fw.sessions.find('timestamp>2025-01-01')\n",
    "\n",
    "# count the number of sessions run in 2025\n",
    "len(sessions)"
   ]
  },
  {
   "cell_type": "code",
   "execution_count": 14,
   "metadata": {},
   "outputs": [],
   "source": [
    "# initalize some arrays we will fill in the for loop\n",
    "my_labels = []\n",
    "my_count = []\n",
    "\n",
    "# lets lookup the number of sessions per year for the last five years\n",
    "for year in range(2020,2026):\n",
    "    # use flywheel to retreive all session between timestamp for each year...\n",
    "    sessions = fw.sessions.find(f'timestamp>{year}-01-01,timestamp<{year+1}-01-01')\n",
    "    # store some values for our bar plot\n",
    "    my_labels.append(f\"{year}\")\n",
    "    my_count.append(len(sessions))"
   ]
  },
  {
   "cell_type": "code",
   "execution_count": 15,
   "metadata": {},
   "outputs": [
    {
     "data": {
      "image/png": "[encoded data removed]",
      "text/plain": [
       "<Figure size 640x480 with 1 Axes>"
      ]
     },
     "metadata": {},
     "output_type": "display_data"
    }
   ],
   "source": [
    "import matplotlib.pyplot as plt\n",
    "\n",
    "# Create the bar plot\n",
    "plt.bar(my_labels, my_count)\n",
    "\n",
    "# Add labels to the axes\n",
    "plt.xlabel('Years')  # Label for the x-axis\n",
    "plt.ylabel('# Sessions')      # Label for the y-axis\n",
    "plt.title('Number of Imaging Sessions Per Year')  # Title of the plot\n",
    "\n",
    "# rotatte x-axis labels to be vertical\n",
    "plt.xticks(rotation=90)\n",
    "\n",
    "# Display the plot\n",
    "plt.show()"
   ]
  },
  {
   "cell_type": "markdown",
   "metadata": {},
   "source": [
    "## Answer Sheet!\n",
    "\n",
    "In the next cell print the contents of `my_number` variable. "
   ]
  },
  {
   "cell_type": "code",
   "execution_count": 16,
   "metadata": {},
   "outputs": [
    {
     "name": "stdout",
     "output_type": "stream",
     "text": [
      "10\n"
     ]
    }
   ],
   "source": [
    "print(my_number)"
   ]
  },
  {
   "cell_type": "markdown",
   "metadata": {},
   "source": [
    "In the next cell compute the remainder of `10 / 3`. Hint: the remainder operation looks like this `x % y`, more info in our lecture slides."
   ]
  },
  {
   "cell_type": "code",
   "execution_count": 17,
   "metadata": {},
   "outputs": [
    {
     "data": {
      "text/plain": [
       "1"
      ]
     },
     "execution_count": 17,
     "metadata": {},
     "output_type": "execute_result"
    }
   ],
   "source": [
    "10 % 3"
   ]
  },
  {
   "cell_type": "markdown",
   "metadata": {},
   "source": [
    "In the next cell, loop through the `range(0,5)`. Print each value in the array only if the value is an even number."
   ]
  },
  {
   "cell_type": "code",
   "execution_count": 18,
   "metadata": {},
   "outputs": [
    {
     "name": "stdout",
     "output_type": "stream",
     "text": [
      "iteration: 0\n",
      "iteration: 2\n",
      "iteration: 4\n"
     ]
    }
   ],
   "source": [
    "my_array = range(0,5)\n",
    "for i in my_array:\n",
    "    if i % 2 == 0:\n",
    "        print(f\"iteration: {i}\")"
   ]
  },
  {
   "cell_type": "code",
   "execution_count": null,
   "metadata": {},
   "outputs": [],
   "source": []
  }
 ],
 "metadata": {
  "kernelspec": {
   "display_name": "incenv",
   "language": "python",
   "name": "incenv"
  },
  "language_info": {
   "codemirror_mode": {
    "name": "ipython",
    "version": 3
   },
   "file_extension": ".py",
   "mimetype": "text/x-python",
   "name": "python",
   "nbconvert_exporter": "python",
   "pygments_lexer": "ipython3",
   "version": "3.9.18"
  }
 },
 "nbformat": 4,
 "nbformat_minor": 4
}

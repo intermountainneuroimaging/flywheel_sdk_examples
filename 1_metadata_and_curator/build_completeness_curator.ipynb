{
 "cells": [
  {
   "cell_type": "code",
   "execution_count": 1,
   "metadata": {},
   "outputs": [],
   "source": [
    "import pandas as pd\n",
    "import os\n",
    "import sys\n",
    "\n",
    "\n",
    "def completeness_template(session):\n",
    "    \n",
    "    # check a \"examplar session\" to extract a list of acqusitions, acqusition length, and phase encoding direction\n",
    "    \n",
    "    df = {\"Session\": [],\n",
    "          \"Modality\": [],\n",
    "          \"SeriesNumber\": [],\n",
    "          \"SeriesDescription\": [],\n",
    "          \"AcquisitionLabel\": [],\n",
    "          \"ExpectedPEDir\": [],\n",
    "          \"ExpectedLength\": []}\n",
    "    \n",
    "    for acq in session.acquisitions():\n",
    "        dcm_file = get_dicom_file(acq)\n",
    "        if \"SeriesDescription\" not in dcm_file.info:\n",
    "            continue\n",
    "            \n",
    "        df[\"Session\"] = session.label\n",
    "        df[\"Modality\"].append(acq.label.split(\"-\")[0] if acq.label.split(\"-\")[0] in ['anat','func','fmap','dwi'] else \"scout\")\n",
    "        df[\"SeriesNumber\"].append(dcm_file.info[\"SeriesNumber\"])\n",
    "        df[\"SeriesDescription\"].append(dcm_file.info[\"SeriesDescription\"])\n",
    "        df[\"AcquisitionLabel\"].append(acq.label)\n",
    "        \n",
    "        if any(f in [\"BOLD\",\"dti\",\"B0\"] for f in dcm_file.classification[\"Measurement\"] ):\n",
    "            nifti_file = get_nifti_file(acq)\n",
    "            df[\"ExpectedLength\"].append(dcm_file.zip_member_count)\n",
    "            df[\"ExpectedPEDir\"].append(nifti_file.info[\"PhaseEncodingDirection\"])\n",
    "        else:\n",
    "            df[\"ExpectedLength\"].append(None)\n",
    "            df[\"ExpectedPEDir\"].append(None)\n",
    "    return df\n",
    "        \n",
    "\n",
    "def get_dicom_file(acq):\n",
    "    acq = fw.get(acq.id)\n",
    "    return next((f for f in acq.files if f.type == \"dicom\"), None)\n",
    "\n",
    "def get_nifti_file(acq):\n",
    "    acq = fw.get(acq.id)\n",
    "    return next((f for f in acq.files if f.type == \"nifti\"), None)\n",
    "    \n",
    "\n"
   ]
  },
  {
   "cell_type": "code",
   "execution_count": 2,
   "metadata": {},
   "outputs": [],
   "source": [
    "import flywheel\n",
    "fw = flywheel.Client('')\n",
    "session = fw.get(fw.lookup('<path-to-session>').id)\n",
    "\n",
    "json = completeness_template(session)\n",
    "df = pd.DataFrame.from_dict(json)\n",
    "df = df.sort_values(\"SeriesNumber\", ignore_index=True)\n",
    "df = df.drop('SeriesNumber', axis=1)\n",
    "\n",
    "# write out as output\n",
    "project = fw.get(session.parents[\"project\"]).label.lower()\n",
    "df.to_csv(f'{project}_completeness.csv', index=False)\n",
    "df"
   ]
  }
 ],
 "metadata": {
  "kernelspec": {
   "display_name": "incenv",
   "language": "python",
   "name": "incenv"
  },
  "language_info": {
   "codemirror_mode": {
    "name": "ipython",
    "version": 3
   },
   "file_extension": ".py",
   "mimetype": "text/x-python",
   "name": "python",
   "nbconvert_exporter": "python",
   "pygments_lexer": "ipython3",
   "version": "3.9.18"
  }
 },
 "nbformat": 4,
 "nbformat_minor": 4
}

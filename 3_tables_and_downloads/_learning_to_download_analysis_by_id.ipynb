{
 "cells": [
  {
   "cell_type": "markdown",
   "metadata": {},
   "source": [
    "# Download Analyses from Flywheel\n",
    "\n",
    "Welcome! This is an introductory worksheet to explore how we can select and download analysis files from Flywheel. \n",
    "\n",
    "**Date modified:** 11/12/2024<br>\n",
    "**Authors:** Amy Hegarty, Intermountain Neuroimaging Consortium\n",
    "\n",
    "**Sections:**\n",
    "1. USER INPUTS\n",
    "2. IMPORT STATEMENTS\n",
    "3. FLYWHEEL LOGIN\n",
    "4. QUICK COMMANDS\n",
    "5. ANALYSIS TABLES\n",
    "6. RUN ANALYSIS BY TEMPLATE\n",
    "7. DOWNLOAD ANALYSIS FILES\n",
    "-----"
   ]
  },
  {
   "cell_type": "markdown",
   "metadata": {},
   "source": [
    "Before starting...\n",
    "1. Be sure you have configured your conda environment to view ics managed conda environments and packages. If you haven't get started [here](https://inc-documentation.readthedocs.io/en/latest/pl_and_blanca_basics.html#setting-up-conda-environments).\n",
    "\n",
    "2. Be sure to select the `incenv` kernel from the list of available kernels. If you don't see the `incenv` kernel, contact Amy Hegarty <Amy.Hegarty@colorado.edu> or follow the instructions [here](https://inc-documentation.readthedocs.io/en/latest/pl_and_blanca_basics.html#setting-up-conda-environments) to setup a new kernel in a shared conda environment. "
   ]
  },
  {
   "cell_type": "markdown",
   "metadata": {},
   "source": [
    "## __USER INPUTS__\n",
    "Gather all users defined variables for the worksheet"
   ]
  },
  {
   "cell_type": "code",
   "execution_count": null,
   "metadata": {},
   "outputs": [],
   "source": [
    "user_inputs = {\n",
    "    \"group\": \"<group>\",\n",
    "    \"project\": \"<project>\", \n",
    "    \"download-path\": \"<path-to-download-directory>\"\n",
    "}"
   ]
  },
  {
   "cell_type": "markdown",
   "metadata": {},
   "source": [
    "## __IMPORT STATEMENTS__\n",
    "Here we will load all packages used in the worksheet. This includes some custom helper functions stored in helper_functions.py"
   ]
  },
  {
   "cell_type": "code",
   "execution_count": null,
   "metadata": {},
   "outputs": [],
   "source": [
    "from pathlib import Path\n",
    "import os\n",
    "import flywheel\n",
    "import pandas as pd\n",
    "import sys\n",
    "import logging\n",
    "logging.basicConfig(level=logging.INFO, format='%(asctime)s %(levelname)s %(message)s')\n",
    "log = logging.getLogger('main')\n",
    "\n",
    "# import custom helper functions, need to first add path to system envrionment... \n",
    "#      do that using current directory inside jupyter notebooks, \n",
    "#      or __file__ attribute in script\n",
    "try:\n",
    "    sys.path.insert(0, os.path.dirname(__file__))\n",
    "except NameError:\n",
    "    sys.path.insert(0, os.path.dirname(os.getcwd()))\n",
    "from _helper_functions import tables, fileIO, gears\n",
    "\n",
    "\n",
    "# set default permissions\n",
    "os.umask(0o002);"
   ]
  },
  {
   "cell_type": "markdown",
   "metadata": {},
   "source": [
    "## __FLYWHEEL LOGIN__\n",
    "Be sure you have first logged into flywheel using the command line interface. Once you have stored your API key, you will not need to log in subsequent times. Follow instructions [here](https://inc-documentation.readthedocs.io/en/latest/cli_basics.html#cli-from-blanca-compute-node). "
   ]
  },
  {
   "cell_type": "code",
   "execution_count": null,
   "metadata": {},
   "outputs": [],
   "source": [
    "# get flywheel client\n",
    "fw = flywheel.Client('')"
   ]
  },
  {
   "cell_type": "markdown",
   "metadata": {},
   "source": [
    "project = fw.projects.find_one('label='+pycontext[\"project\"])## GENERATE TABLE\n",
    "Use a custom function `get_table` stored in helper_functions.py to walk through all project analyses. Locate analyses which meet our matching critera and ouput their ids in a table. "
   ]
  },
  {
   "cell_type": "markdown",
   "metadata": {},
   "source": [
    "## __QUICK COMMANDS__"
   ]
  },
  {
   "cell_type": "code",
   "execution_count": null,
   "metadata": {},
   "outputs": [],
   "source": [
    "sessions = fw.projects.find_one('label='+user_inputs[\"project\"]).sessions.find()  # get session objects\n",
    "session_ids = [s.id for s in sessions if \"pilot\" not in \" \".join(s.tags)]         # get session ids for non pilot sessions\n",
    "print(session_ids)"
   ]
  },
  {
   "cell_type": "markdown",
   "metadata": {},
   "source": [
    "## __ANALYSIS TABLES__\n",
    "It can be useful to construct tables of all analyses for a specified project. These tables can be organized to:\n",
    "1. __`gear_table`__ include all instances of a specific gear (e.g. fmriprep)\n",
    "2. __`session_table`__ include all sessions within the project, store analysis ids for all auto workflow analyses\n",
    "\n",
    "Inspect these tables to ensure analyses are complete for all sessions and use as input for downloads"
   ]
  },
  {
   "cell_type": "code",
   "execution_count": null,
   "metadata": {},
   "outputs": [],
   "source": [
    "# get table (all analyses for specified gear...)\n",
    "gearname = 'bids-fmriprep'\n",
    "gear_table = tables.get_table_by_gearname(user_inputs, gearname)\n",
    "\n",
    "# display table\n",
    "print(gear_table.info())\n",
    "\n",
    "# path for table output\n",
    "label=user_inputs[\"project\"].lower()+\".\"+gearname+\".table.csv\"\n",
    "\n",
    "# save table for future use\n",
    "gear_table.to_csv(label,index=False)\n",
    "log.info(\"Analysis Spreadsheet saved: %s\", os.path.join(os.getcwd(),label))"
   ]
  },
  {
   "cell_type": "code",
   "execution_count": null,
   "metadata": {},
   "outputs": [],
   "source": [
    "# get a list of all analysis ids used for our download methods...\n",
    "list(gear_table.loc[gear_table['analysis.label'].str.contains('lower-motor NR24'),\"analysis.id\"])"
   ]
  },
  {
   "cell_type": "code",
   "execution_count": null,
   "metadata": {},
   "outputs": [],
   "source": [
    "# get table (all analyses for each project session)\n",
    "session_table = tables.get_table_by_template(user_inputs, template_file_name=\"gear_template.json\")\n",
    "\n",
    "# display table\n",
    "print(session_table.info())\n",
    "\n",
    "# path for table output\n",
    "label=user_inputs[\"project\"].lower()+\".bysession.table.csv\"\n",
    "\n",
    "# save table for future use\n",
    "session_table.to_csv(label,index=False)\n",
    "log.info(\"Analysis Spreadsheet saved: %s\", os.path.join(os.getcwd(),label))"
   ]
  },
  {
   "cell_type": "markdown",
   "metadata": {},
   "source": [
    "## __RUN ANALYSIS BY TEMPLATE__\n",
    "After reviewing your analysis checks, if there are any sessions with incomplete workflows, you may want to run any remaining gears using the auto workflow methods. Inspect each session first before running the workflow to confirm if any prior gears failed, and if so, why."
   ]
  },
  {
   "cell_type": "code",
   "execution_count": null,
   "metadata": {},
   "outputs": [],
   "source": [
    "# for more information on running analyses using the auto-workflow template, visit `2_gear_workflow` section of this repo\n",
    "gears.run_auto_gear('<session_id>', template_file_name=\"gear_template.json\")"
   ]
  },
  {
   "cell_type": "markdown",
   "metadata": {},
   "source": [
    "## __DOWNLOAD ANALYSIS FILES__\n",
    "Use the analysis table and download all analysis files to selected path. "
   ]
  },
  {
   "cell_type": "code",
   "execution_count": null,
   "metadata": {},
   "outputs": [],
   "source": [
    "# option 1: download directly from analysis table\n",
    "os.makedirs(user_inputs[\"download-path\"], exist_ok=True)\n",
    "fileIO.download_session_analyses_byid(gear_table.loc[gear_table['subject.label'] == '102', 'analysis.id'].values[0],user_inputs[\"download-path\"])"
   ]
  },
  {
   "cell_type": "code",
   "execution_count": null,
   "metadata": {},
   "outputs": [],
   "source": [
    "# option 2: download directly from list of analysis ids\n",
    "analysis_ids = [\n",
    "    '<analysis-id-1>'',\n",
    "    '<analysis-id-2>',\n",
    "]\n",
    "os.makedirs(user_inputs[\"download-path\"], exist_ok=True)\n",
    "for aid in analysis_ids:\n",
    "    fileIO.download_session_analyses_byid(aid,user_inputs[\"download-path\"])"
   ]
  }
 ],
 "metadata": {
  "kernelspec": {
   "display_name": "incenv",
   "language": "python",
   "name": "incenv"
  },
  "language_info": {
   "codemirror_mode": {
    "name": "ipython",
    "version": 3
   },
   "file_extension": ".py",
   "mimetype": "text/x-python",
   "name": "python",
   "nbconvert_exporter": "python",
   "pygments_lexer": "ipython3",
   "version": "3.9.12"
  }
 },
 "nbformat": 4,
 "nbformat_minor": 4
}

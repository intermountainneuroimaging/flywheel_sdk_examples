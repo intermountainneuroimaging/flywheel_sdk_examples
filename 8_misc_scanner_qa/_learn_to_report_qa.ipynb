{
 "cells": [
  {
   "cell_type": "markdown",
   "metadata": {},
   "source": [
    "# Reterive Flywheel QA Metadata for Inspection\n",
    "\n",
    "Welcome! This is an introductory worksheet to explore how we can use Flywheel's SDK to retrieve quality assurance metrics stored in Flywheel from MRIQC gear! \n",
    "\n",
    "**Date modified:** 02/16/2025<br>\n",
    "**Authors:** Amy Hegarty, Intermountain Neuroimaging Consortium\n",
    "\n",
    "**Sections:**\n",
    "1. IMPORT STATEMENTS\n",
    "2. FLYWHEEL LOGIN\n",
    "3. WEEKLY PHANTOM SCAN QUALTIY ASSURANCE\n",
    "4. QUALITY ASSURANCE FOR MB=8 SEQUENCES\n",
    "-----"
   ]
  },
  {
   "cell_type": "markdown",
   "metadata": {},
   "source": [
    "Before starting...\n",
    "1. Be sure you have configured your conda environment to view ics managed conda environments and packages. If you haven't get started [here](https://inc-documentation.readthedocs.io/en/latest/pl_and_blanca_basics.html#setting-up-conda-environments).\n",
    "\n",
    "2. Be sure to select the `incenv` kernel from the list of available kernels. If you don't see the `incenv` kernel, contact Amy Hegarty <Amy.Hegarty@colorado.edu> or follow the instructions [here](https://inc-documentation.readthedocs.io/en/latest/pl_and_blanca_basics.html#setting-up-conda-environments) to setup a new kernel in a shared conda environment. "
   ]
  },
  {
   "cell_type": "markdown",
   "metadata": {},
   "source": [
    "## __IMPORT STATEMENTS__\n",
    "Here we will load all packages used in the worksheet. This includes some custom helper functions stored in helper_functions.py"
   ]
  },
  {
   "cell_type": "code",
   "execution_count": null,
   "metadata": {},
   "outputs": [],
   "source": [
    "import os, logging\n",
    "import flywheel\n",
    "import pandas as pd\n",
    "from datetime import datetime, timedelta\n",
    "\n",
    "import seaborn as sns\n",
    "import matplotlib.pyplot as plt\n",
    "import numpy as np\n",
    "import scipy.stats as stats\n",
    "logging.basicConfig(level=logging.WARNING)\n",
    "\n",
    "logging.basicConfig(level=logging.DEBUG, format='%(asctime)s %(levelname)s %(message)s')\n",
    "log = logging.getLogger('main')\n",
    "\n",
    "\n",
    "## Helper Function for getting date\n",
    "def get_x_days_ago(x, date=None):\n",
    "    if date is None:\n",
    "        date = datetime.now()\n",
    "    return date - timedelta(days=x)"
   ]
  },
  {
   "cell_type": "markdown",
   "metadata": {},
   "source": [
    "## __FLYWHEEL LOGIN__\n",
    "Be sure you have first logged into flywheel using the command line interface. Once you have stored your API key, you will not need to log in subsequent times. Follow instructions [here](https://inc-documentation.readthedocs.io/en/latest/cli_basics.html#cli-from-blanca-compute-node). "
   ]
  },
  {
   "cell_type": "code",
   "execution_count": null,
   "metadata": {},
   "outputs": [],
   "source": [
    "fw = flywheel.Client('')\n",
    "fw.get_config().site.api_url"
   ]
  },
  {
   "cell_type": "markdown",
   "metadata": {},
   "source": [
    "## __WEEKLY PHANTOM SCAN QUALTIY ASSURANCE__\n",
    "Retrieve image quality metrics from weekly QA project in flywheel. Note: This could similarly be accomplished in FlyQL or Flywheel DataViews. Once all relevant metadata is pulled from Flywheel, make pretty plots."
   ]
  },
  {
   "cell_type": "code",
   "execution_count": null,
   "metadata": {},
   "outputs": [],
   "source": [
    "# USER INPUTS!\n",
    "project_path = \"<group/project>\"   ## e.g.  project_path = \"mbanich/ABCDQA\"\n",
    "# create lookback window\n",
    "created_by = get_x_days_ago(180).strftime('%Y-%m-%d')\n",
    "\n",
    "# filtered sessions for specific project path\n",
    "filtered_sessions=fw.get(fw.lookup(project_path).id).sessions.find(f'created>{created_by}')\n",
    "\n",
    "iqm = pd.DataFrame()\n",
    "# IQM data are stored as file metadata (nifti files inside acqusition containers)\n",
    "# loop though sessions --> acquisitons --> files to retrieve all IQM data. \n",
    "for session in filtered_sessions:\n",
    "    for acq in session.acquisitions():\n",
    "        if \"func-bold\" in acq.label and \"ignore-BIDS\" not in acq.label:\n",
    "            full_acq = fw.get_acquisition(acq.id)\n",
    "            for f in full_acq.files:\n",
    "                if f.type == 'nifti':\n",
    "                    if \"IQM\" in f.info:\n",
    "                        # store all IQMS\n",
    "                        vals = f.info['IQM']\n",
    "                        \n",
    "                        # add some extra metadata from nifti header\n",
    "                        vals[\"IOPD1\"] = f.info['ImageOrientationPatientDICOM'][0]   # patient oritation in scanner (can affect snr)\n",
    "                        vals[\"IOPD2\"] = f.info['ImageOrientationPatientDICOM'][1]\n",
    "                        vals[\"IOPD3\"] = f.info['ImageOrientationPatientDICOM'][2]\n",
    "                        vals[\"IOPD4\"] = f.info['ImageOrientationPatientDICOM'][3]\n",
    "                        vals[\"IOPD5\"] = f.info['ImageOrientationPatientDICOM'][4]\n",
    "                        vals[\"IOPD6\"] = f.info['ImageOrientationPatientDICOM'][5]\n",
    "                        vals[\"MB\"] = f.info['MultibandAccelerationFactor'] if 'MultibandAccelerationFactor' in f.info else None  # multi-band acceleration fact (affects snr big time!)\n",
    "                        vals[\"TR\"] = f.info['RepetitionTime']\n",
    "                        \n",
    "                        # add some extra descriptors of data including timestamp, acquisition name, subject and session ids\n",
    "                        vals[\"timestamp\"] = f.created.strftime('%Y-%m-%d')   \n",
    "                        vals[\"session\"] = session.label\n",
    "                        vals[\"subject\"] = fw.get(session.parents[\"subject\"]).label\n",
    "                        vals[\"project\"] = fw.get(session.parents[\"project\"]).label\n",
    "                        vals[\"acquisition\"] = acq.label\n",
    "                        \n",
    "                        # store in master sheet (dataframe -- use later for plotting...)\n",
    "                        df = pd.DataFrame(vals, index=[0])\n",
    "                        iqm = pd.concat([iqm, df], ignore_index=True)"
   ]
  },
  {
   "cell_type": "code",
   "execution_count": null,
   "metadata": {},
   "outputs": [],
   "source": [
    "# plot snr as scatterplot\n",
    "g = sns.relplot(data=iqm, x=\"timestamp\",y=\"snr\",hue=\"acquisition\")\n",
    "xlims_orig = g.ax.get_xlim()\n",
    "xshading = [g.ax.get_xlim()[0], g.ax.get_xlim()[1]-2]\n",
    "\n",
    "legend_handles = g._legend.legendHandles\n",
    "colors = [h.get_facecolor() for h in legend_handles]\n",
    "\n",
    "# add mean and 95% confidence intervals \n",
    "for idx, i in enumerate([f.get_text() for f in g._legend.texts]):\n",
    "    \n",
    "    # plot bar for each acquisiton type\n",
    "    data = iqm.loc[(iqm[\"acquisition\"] == i), \"snr\"]\n",
    "    mean = np.mean(data)\n",
    "\n",
    "    ci = stats.t.interval(alpha=0.95, df=len(data)-1, \n",
    "              loc=np.mean(data), \n",
    "              scale=stats.sem(data)) \n",
    "\n",
    "    # Create the plot\n",
    "    sns.lineplot(x=xshading, y=[mean, mean], color=colors[idx].flatten(), legend=False)\n",
    "    sns.lineplot(x=[xshading[1],xlims_orig[1]], y=[mean, mean], color=colors[idx].flatten(), legend=False, linestyle=':')\n",
    "    plt.fill_between(xshading, ci[0], ci[1], color=colors[idx].flatten(), alpha=0.05)\n",
    "    \n",
    "# make pretty and save image\n",
    "g.ax.set_xlim(xlims_orig)\n",
    "plt.xticks(rotation=90)\n",
    "os.makedirs('plots',exist_ok = True)\n",
    "plt.savefig(\"plots/phantom_QA{}.png\".format(datetime.now().strftime('-%Y-%m-%d')), bbox_inches='tight')  "
   ]
  },
  {
   "cell_type": "markdown",
   "metadata": {},
   "source": [
    "## __QUALITY ASSURANCE FOR MB=8 SEQUENCES__"
   ]
  },
  {
   "cell_type": "code",
   "execution_count": null,
   "metadata": {},
   "outputs": [],
   "source": [
    "# create lookback window across all projects\n",
    "created_by = get_x_days_ago(30).strftime('%Y-%m-%d')\n",
    "filtered_sessions=fw.sessions.find(f'created>{created_by}')\n",
    "\n",
    "# IQM data are stored as file metadata (nifti files inside acqusition containers)\n",
    "# loop though sessions --> acquisitons --> files to retrieve all IQM data. \n",
    "iqm = pd.DataFrame()\n",
    "for session in filtered_sessions:\n",
    "    \n",
    "    # skip sandbox projects\n",
    "    if \"sandbox\" in fw.get(session.parents[\"project\"]).label:\n",
    "        continue\n",
    "    for acq in session.acquisitions():\n",
    "        if \"func-bold\" in acq.label and \"ignore-BIDS\" not in acq.label:\n",
    "            full_acq = fw.get_acquisition(acq.id)\n",
    "            for f in full_acq.files:\n",
    "                if f.type == 'nifti':\n",
    "                    if \"IQM\" in f.info:\n",
    "                         # store all IQMS\n",
    "                        vals = f.info['IQM']\n",
    "                        \n",
    "                        # add some extra metadata from nifti header\n",
    "                        vals[\"IOPD1\"] = f.info['ImageOrientationPatientDICOM'][0]   # patient oritation in scanner (can affect snr)\n",
    "                        vals[\"IOPD2\"] = f.info['ImageOrientationPatientDICOM'][1]\n",
    "                        vals[\"IOPD3\"] = f.info['ImageOrientationPatientDICOM'][2]\n",
    "                        vals[\"IOPD4\"] = f.info['ImageOrientationPatientDICOM'][3]\n",
    "                        vals[\"IOPD5\"] = f.info['ImageOrientationPatientDICOM'][4]\n",
    "                        vals[\"IOPD6\"] = f.info['ImageOrientationPatientDICOM'][5]\n",
    "                        vals[\"MB\"] = f.info['MultibandAccelerationFactor'] if 'MultibandAccelerationFactor' in f.info else None  # multi-band acceleration fact (affects snr big time!)\n",
    "                        vals[\"TR\"] = f.info['RepetitionTime']\n",
    "                        \n",
    "                        # add some extra descriptors of data including timestamp, acquisition name, subject and session ids\n",
    "                        vals[\"timestamp\"] = f.created.strftime('%Y-%m-%d')   \n",
    "                        vals[\"session\"] = session.label\n",
    "                        vals[\"subject\"] = fw.get(session.parents[\"subject\"]).label\n",
    "                        vals[\"project\"] = fw.get(session.parents[\"project\"]).label\n",
    "                        vals[\"acquisition\"] = acq.label\n",
    "                        \n",
    "                        # store in master sheet (dataframe -- use later for plotting...)\n",
    "                        df = pd.DataFrame(vals, index=[0])\n",
    "                        iqm = pd.concat([iqm, df], ignore_index=True)\n",
    "\n"
   ]
  },
  {
   "cell_type": "code",
   "execution_count": null,
   "metadata": {},
   "outputs": [],
   "source": [
    "# plot snr across all sessions.\n",
    "sns.relplot(data=iqm[iqm['MB']==8], x=\"timestamp\",y=\"snr\",hue=\"project\")\n",
    "plt.xticks(rotation=90)\n",
    "\n",
    "os.makedirs('plots',exist_ok = True)\n",
    "plt.savefig(\"plots/mb8_QA{}.png\".format(datetime.now().strftime('-%Y-%m-%d')), bbox_inches='tight')  "
   ]
  },
  {
   "cell_type": "code",
   "execution_count": null,
   "metadata": {},
   "outputs": [],
   "source": [
    "# WARNING!! THIS CELL DELETES DATA\n",
    "\n",
    "import shutil\n",
    "# cleanup your outputs when you are finished...\n",
    "shutil.rmtree('plots')"
   ]
  }
 ],
 "metadata": {
  "kernelspec": {
   "display_name": "incenv",
   "language": "python",
   "name": "incenv"
  },
  "language_info": {
   "codemirror_mode": {
    "name": "ipython",
    "version": 3
   },
   "file_extension": ".py",
   "mimetype": "text/x-python",
   "name": "python",
   "nbconvert_exporter": "python",
   "pygments_lexer": "ipython3",
   "version": "3.8.5"
  }
 },
 "nbformat": 4,
 "nbformat_minor": 4
}

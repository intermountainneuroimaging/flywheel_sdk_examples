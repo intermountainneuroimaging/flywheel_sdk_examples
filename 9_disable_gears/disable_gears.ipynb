{
 "cells": [
  {
   "cell_type": "code",
   "execution_count": 1,
   "metadata": {},
   "outputs": [],
   "source": [
    "import flywheel\n",
    "\n",
    "fw = flywheel.Client()\n",
    "\n",
    "# Get all gears but this only gets the latest versions (dont need this just for FYI)\n",
    "gears = fw.gears.find()\n",
    "\n",
    "# Get all versions of gears\n",
    "gears_all = fw.gears.find(all_versions=True)\n",
    "\n",
    "# Create a dict of gear names as keys.\n",
    "# Each value contains a list where each element is the tuple (gear_version gear_id)\n",
    "\n",
    "gear_dict = {\"name\":[], \"version\":[], \"id\":[], \"disabled\":[]}\n",
    "for gear in gears_all:\n",
    "    gear_dict[\"name\"].append(gear.gear.name)\n",
    "    gear_dict[\"version\"].append(gear.gear.version)\n",
    "    gear_dict[\"id\"].append(gear.id)\n",
    "    gear_dict[\"disabled\"].append(gear.disabled)\n"
   ]
  },
  {
   "cell_type": "code",
   "execution_count": 13,
   "metadata": {},
   "outputs": [
    {
     "data": {
      "text/html": [
       "<div>\n",
       "<style scoped>\n",
       "    .dataframe tbody tr th:only-of-type {\n",
       "        vertical-align: middle;\n",
       "    }\n",
       "\n",
       "    .dataframe tbody tr th {\n",
       "        vertical-align: top;\n",
       "    }\n",
       "\n",
       "    .dataframe thead th {\n",
       "        text-align: right;\n",
       "    }\n",
       "</style>\n",
       "<table border=\"1\" class=\"dataframe\">\n",
       "  <thead>\n",
       "    <tr style=\"text-align: right;\">\n",
       "      <th></th>\n",
       "      <th>name</th>\n",
       "      <th>version</th>\n",
       "      <th>id</th>\n",
       "      <th>disabled</th>\n",
       "    </tr>\n",
       "  </thead>\n",
       "  <tbody>\n",
       "    <tr>\n",
       "      <th>202</th>\n",
       "      <td>fsl-feat</td>\n",
       "      <td>1.0.4_6.0_inc0.0</td>\n",
       "      <td>62ba38c6d94d24913b7dd789</td>\n",
       "      <td>None</td>\n",
       "    </tr>\n",
       "    <tr>\n",
       "      <th>216</th>\n",
       "      <td>fsl-feat</td>\n",
       "      <td>1.0.4_6.0</td>\n",
       "      <td>6194520bdad8e974dca32f97</td>\n",
       "      <td>None</td>\n",
       "    </tr>\n",
       "    <tr>\n",
       "      <th>223</th>\n",
       "      <td>fsl-feat</td>\n",
       "      <td>0.1.4</td>\n",
       "      <td>60e6165aa5f6b8779c80edc0</td>\n",
       "      <td>None</td>\n",
       "    </tr>\n",
       "  </tbody>\n",
       "</table>\n",
       "</div>"
      ],
      "text/plain": [
       "         name           version                        id disabled\n",
       "202  fsl-feat  1.0.4_6.0_inc0.0  62ba38c6d94d24913b7dd789     None\n",
       "216  fsl-feat         1.0.4_6.0  6194520bdad8e974dca32f97     None\n",
       "223  fsl-feat             0.1.4  60e6165aa5f6b8779c80edc0     None"
      ]
     },
     "execution_count": 13,
     "metadata": {},
     "output_type": "execute_result"
    }
   ],
   "source": [
    "import pandas as pd\n",
    "\n",
    "df = pd.DataFrame.from_dict(gear_dict)\n",
    "df.drop_duplicates(inplace=True, ignore_index=True)\n",
    "df[df[\"name\"] == \"fsl-feat\"]"
   ]
  },
  {
   "cell_type": "code",
   "execution_count": 14,
   "metadata": {},
   "outputs": [
    {
     "data": {
      "text/plain": [
       "['62ba38c6d94d24913b7dd789',\n",
       " '6194520bdad8e974dca32f97',\n",
       " '60e6165aa5f6b8779c80edc0']"
      ]
     },
     "execution_count": 14,
     "metadata": {},
     "output_type": "execute_result"
    }
   ],
   "source": [
    "list(df.loc[df[\"name\"] == \"fsl-feat\",\"id\"])"
   ]
  },
  {
   "cell_type": "code",
   "execution_count": null,
   "metadata": {},
   "outputs": [],
   "source": []
  }
 ],
 "metadata": {
  "kernelspec": {
   "display_name": "incenv",
   "language": "python",
   "name": "incenv"
  },
  "language_info": {
   "codemirror_mode": {
    "name": "ipython",
    "version": 3
   },
   "file_extension": ".py",
   "mimetype": "text/x-python",
   "name": "python",
   "nbconvert_exporter": "python",
   "pygments_lexer": "ipython3",
   "version": "3.9.18"
  }
 },
 "nbformat": 4,
 "nbformat_minor": 4
}
